{
 "cells": [
  {
   "cell_type": "code",
   "execution_count": null,
   "metadata": {
    "application/vnd.databricks.v1+cell": {
     "cellMetadata": {
      "byteLimit": 2048000,
      "rowLimit": 10000
     },
     "inputWidgets": {},
     "nuid": "94326e32-c121-4b16-ac4e-1fa6c89a7ddb",
     "showTitle": false,
     "tableResultSettingsMap": {},
     "title": ""
    }
   },
   "outputs": [],
   "source": [
    "import pandas as pd\n",
    "\n",
    "# Carregar  dados da camada bronze\n",
    "df = pd.read_parquet('data/bronze/dados_brutos.parquet')\n",
    "print(f\"Dados originais {df.shape}\")\n",
    "df_clean = df.copy()"
   ]
  },
  {
   "cell_type": "markdown",
   "metadata": {
    "application/vnd.databricks.v1+cell": {
     "cellMetadata": {},
     "inputWidgets": {},
     "nuid": "6c5a7bf0-8580-46c0-9f9f-afd5c8ee4602",
     "showTitle": false,
     "tableResultSettingsMap": {},
     "title": ""
    }
   },
   "source": [
    "# Transformações"
   ]
  },
  {
   "cell_type": "markdown",
   "metadata": {
    "application/vnd.databricks.v1+cell": {
     "cellMetadata": {},
     "inputWidgets": {},
     "nuid": "68cb94da-1635-4f16-ae33-37f931f28281",
     "showTitle": false,
     "tableResultSettingsMap": {},
     "title": ""
    }
   },
   "source": [
    "## 1. Valores Faltantes"
   ]
  },
  {
   "cell_type": "markdown",
   "metadata": {
    "application/vnd.databricks.v1+cell": {
     "cellMetadata": {},
     "inputWidgets": {},
     "nuid": "23c30738-55e4-44aa-94f5-da783459bec7",
     "showTitle": false,
     "tableResultSettingsMap": {},
     "title": ""
    }
   },
   "source": [
    "### CustomerID\n"
   ]
  },
  {
   "cell_type": "markdown",
   "metadata": {
    "application/vnd.databricks.v1+cell": {
     "cellMetadata": {},
     "inputWidgets": {},
     "nuid": "40c2ea8b-ce19-4b28-ab33-2942cd1cabcd",
     "showTitle": false,
     "tableResultSettingsMap": {},
     "title": ""
    }
   },
   "source": [
    "\n",
    "\n",
    "*   CustomerID\t| 135.080 Rows NaN\n",
    "\n",
    "---\n",
    "\n",
    "\n",
    "Checando a possibilidade de tratar CustomerID NaN de acordo com InvoiceNo (Nº da fatura) iguais e com CustomerID preenchido"
   ]
  },
  {
   "cell_type": "code",
   "execution_count": null,
   "metadata": {
    "application/vnd.databricks.v1+cell": {
     "cellMetadata": {
      "byteLimit": 2048000,
      "rowLimit": 10000
     },
     "inputWidgets": {},
     "nuid": "c19bc515-b3ab-4269-b241-5bae7412321f",
     "showTitle": false,
     "tableResultSettingsMap": {},
     "title": ""
    }
   },
   "outputs": [],
   "source": [
    "# Contar quantos InvoiceNo possuem pelo menos um CustomerID nulo\n",
    "invoice_null = df.groupby('InvoiceNo')['CustomerID'].apply(lambda x: x.isnull().any())\n",
    "invoice_notnull = df.groupby('InvoiceNo')['CustomerID'].apply(lambda x: x.notnull().any())\n",
    "\n",
    "# Quantos têm mistura (nulo e não nulo)?\n",
    "mixed_invoice = (invoice_null & invoice_notnull)\n",
    "\n",
    "print(\"Total de InvoiceNo mistos:\", mixed_invoice.sum())\n",
    "print(\"Total de InvoiceNo com CustomerID nulo:\", invoice_null.sum())\n",
    "print(\"Total de InvoiceNo com CustomerID não nulo:\", invoice_notnull.sum())\n",
    "print(f\"Total de linhas com CustomerID nulo: {df['CustomerID'].isnull().sum()}\")"
   ]
  },
  {
   "cell_type": "markdown",
   "metadata": {
    "application/vnd.databricks.v1+cell": {
     "cellMetadata": {},
     "inputWidgets": {},
     "nuid": "d372754b-59a6-464f-bcf3-1d2d45bb8eab",
     "showTitle": false,
     "tableResultSettingsMap": {},
     "title": ""
    }
   },
   "source": [
    " - Total de InvoiceNo mistos: 0\n",
    "\n",
    "\n",
    "Significa que nao é possivel recuperar CustomerID pelo InvoiceNo"
   ]
  },
  {
   "cell_type": "markdown",
   "metadata": {
    "application/vnd.databricks.v1+cell": {
     "cellMetadata": {},
     "inputWidgets": {},
     "nuid": "2563b286-e26d-484e-8c74-1a87cd52ef1c",
     "showTitle": false,
     "tableResultSettingsMap": {},
     "title": ""
    }
   },
   "source": [
    "### Description"
   ]
  },
  {
   "cell_type": "markdown",
   "metadata": {
    "application/vnd.databricks.v1+cell": {
     "cellMetadata": {},
     "inputWidgets": {},
     "nuid": "01034007-b360-4886-9b11-34243d16c281",
     "showTitle": false,
     "tableResultSettingsMap": {},
     "title": ""
    }
   },
   "source": [
    "*   Description | 1454 Rows NaN\n",
    "\n",
    " Muitos Description possuem erros de preenchimento também\n",
    "\n",
    "---\n",
    "\n",
    "\n",
    "\n",
    "Cada produto possui o seu StockCode. Muitos Description (nome do produto) estão NaN ou preenchidos de forma errada, porém possuem StockCode iguais"
   ]
  },
  {
   "cell_type": "code",
   "execution_count": null,
   "metadata": {
    "application/vnd.databricks.v1+cell": {
     "cellMetadata": {
      "byteLimit": 2048000,
      "rowLimit": 10000
     },
     "collapsed": true,
     "inputWidgets": {},
     "nuid": "99a1d58c-cb65-4522-a84a-b94c911dc06c",
     "showTitle": false,
     "tableResultSettingsMap": {},
     "title": ""
    }
   },
   "outputs": [],
   "source": [
    "# Contar quantos StockCode possuem pelo menos um Description nulo\n",
    "StockCode_null = df.groupby('StockCode')['Description'].apply(lambda x: x.isnull().any())\n",
    "StockCode_notnull = df.groupby('StockCode')['Description'].apply(lambda x: x.notnull().any())\n",
    "\n",
    "# Quantos têm mistura (nulo e não nulo)?\n",
    "mixed_StockCode = (StockCode_null & StockCode_notnull)\n",
    "\n",
    "print(\"Total de StockCode mistos:\", mixed_StockCode.sum())\n",
    "print(\"Total de StockCode com Description nulo:\", StockCode_null.sum())\n",
    "print(\"Total de StockCode com Description não nulo:\", StockCode_notnull.sum())\n",
    "print(f\"Total de linhas com Description nulo: {df['Description'].isnull().sum()}\")\n",
    "print(\"==========================================\")\n",
    "\n",
    "#Exemplo:\n",
    "display(df[df[\"StockCode\"] == \"35965\"])\n",
    "print(\"\\n\")\n",
    "print(f\"Quantidade de Description NaN do StockCode 35965: {df[df['StockCode'] == '35965']['Description'].isnull().sum()}\")"
   ]
  },
  {
   "cell_type": "code",
   "execution_count": null,
   "metadata": {
    "application/vnd.databricks.v1+cell": {
     "cellMetadata": {
      "byteLimit": 2048000,
      "rowLimit": 10000
     },
     "collapsed": true,
     "inputWidgets": {},
     "nuid": "814b13db-bc73-4ad2-8f0f-d1bd6a73fb2a",
     "showTitle": false,
     "tableResultSettingsMap": {},
     "title": ""
    }
   },
   "outputs": [],
   "source": [
    "# Criar mapeamento de StockCode  Description válida\n",
    "mapa_descricoes = df_clean.dropna(subset=['Description']).groupby('StockCode')['Description'].first().to_dict()\n",
    "\n",
    "# Preencher Description de acordo com o primeiro valor\n",
    "df_clean['Description'] = df_clean.apply(\n",
    "    lambda row: mapa_descricoes.get(row['StockCode'], row['Description']),\n",
    "    axis=1\n",
    ")\n",
    "\n",
    "print(f\"Descriptions recuperados: {df['Description'].isnull().sum() - df_clean['Description'].isnull().sum()}\")\n",
    "print(f\"Descriptions não recuperados: {df_clean['Description'].isnull().sum()}\")\n",
    "print(f\"Quantidade de Descriptions erradas corrigidas: {df['Description'].nunique() - df_clean['Description'].nunique()}\")"
   ]
  },
  {
   "cell_type": "markdown",
   "metadata": {
    "application/vnd.databricks.v1+cell": {
     "cellMetadata": {},
     "inputWidgets": {},
     "nuid": "1bb0b224-0713-44df-92e3-ba4c391d8191",
     "showTitle": false,
     "tableResultSettingsMap": {},
     "title": ""
    }
   },
   "source": [
    "##  2. Duplicatas"
   ]
  },
  {
   "cell_type": "markdown",
   "metadata": {
    "application/vnd.databricks.v1+cell": {
     "cellMetadata": {},
     "inputWidgets": {},
     "nuid": "38448853-fe28-4129-bd93-9e4b509a620a",
     "showTitle": false,
     "tableResultSettingsMap": {},
     "title": ""
    }
   },
   "source": [
    " Duplicatas são aceitáveis no modelo de negócio deste DataFrame. Cada linha representa um item em uma fatura, portanto, o mesmo `InvoiceNo` (número da fatura) pode aparecer várias vezes se uma fatura contiver múltiplos produtos. A venda em si é representada unicamente pelo `InvoiceNo`."
   ]
  },
  {
   "cell_type": "code",
   "execution_count": null,
   "metadata": {
    "application/vnd.databricks.v1+cell": {
     "cellMetadata": {
      "byteLimit": 2048000,
      "rowLimit": 10000
     },
     "collapsed": true,
     "inputWidgets": {},
     "nuid": "5b2cc368-1662-42b8-8612-86ccaa4d42e8",
     "showTitle": false,
     "tableResultSettingsMap": {},
     "title": ""
    }
   },
   "outputs": [],
   "source": [
    "print(f\"Quantidade de linhas duplicadas: {df_clean.duplicated().sum()}\")\n",
    "display(df_clean[df_clean.duplicated()])"
   ]
  },
  {
   "cell_type": "markdown",
   "metadata": {
    "application/vnd.databricks.v1+cell": {
     "cellMetadata": {},
     "inputWidgets": {},
     "nuid": "4e01634b-5897-40b5-b196-2f212aeb914e",
     "showTitle": false,
     "tableResultSettingsMap": {},
     "title": ""
    }
   },
   "source": [
    "## 3. Valores negativos, Cancelamentos e tarifas"
   ]
  },
  {
   "cell_type": "code",
   "execution_count": null,
   "metadata": {
    "application/vnd.databricks.v1+cell": {
     "cellMetadata": {
      "byteLimit": 2048000,
      "rowLimit": 10000
     },
     "collapsed": true,
     "inputWidgets": {},
     "nuid": "f92ab323-f8aa-40a0-bed6-d71d31bd929f",
     "showTitle": false,
     "tableResultSettingsMap": {},
     "title": ""
    }
   },
   "outputs": [],
   "source": [
    "# Linhas de tarifas\n",
    "stockcode_fees = ['C2', 'DOT', 'POST','AMAZONFEE']\n",
    "\n",
    "# Filtrar DataFrame para mostrar Inconsistências:\n",
    "#(InvoiceNo que começam com 'C','A)'| Quantity <= 0 | UnitPrice <= 0 e StockCode de tarifas\n",
    "df_inconsistencias = df_clean[\n",
    "   (df_clean['InvoiceNo'].astype(str).str.startswith('C')) |\n",
    "    (df_clean['InvoiceNo'].astype(str).str.startswith('A')) |\n",
    "     (df_clean['Quantity'] <= 0) | (df_clean['UnitPrice'] <= 0) | (df_clean['StockCode'].isin(stockcode_fees))\n",
    "]\n",
    "\n",
    "display(df_inconsistencias)\n",
    "print(\"Dados serão divididos na camada gold\")"
   ]
  },
  {
   "cell_type": "markdown",
   "metadata": {
    "application/vnd.databricks.v1+cell": {
     "cellMetadata": {},
     "inputWidgets": {},
     "nuid": "352d5b02-c235-4a32-ba95-8099989dc847",
     "showTitle": false,
     "tableResultSettingsMap": {},
     "title": ""
    }
   },
   "source": [
    "## 4. Outliers"
   ]
  },
  {
   "cell_type": "code",
   "execution_count": null,
   "metadata": {
    "application/vnd.databricks.v1+cell": {
     "cellMetadata": {
      "byteLimit": 2048000,
      "rowLimit": 10000
     },
     "collapsed": true,
     "inputWidgets": {},
     "nuid": "3b47a851-efb7-4166-ac41-c16974a3c525",
     "showTitle": false,
     "tableResultSettingsMap": {},
     "title": ""
    }
   },
   "outputs": [],
   "source": [
    "df_clean.describe()"
   ]
  },
  {
   "cell_type": "code",
   "execution_count": null,
   "metadata": {
    "application/vnd.databricks.v1+cell": {
     "cellMetadata": {
      "byteLimit": 2048000,
      "rowLimit": 10000
     },
     "collapsed": true,
     "inputWidgets": {},
     "nuid": "7f17e1bc-b94f-4ce1-a1b0-0d5f60292dcb",
     "showTitle": false,
     "tableResultSettingsMap": {},
     "title": ""
    }
   },
   "outputs": [],
   "source": [
    "# identificando Outliers\n",
    "display(df_clean[df_clean['Quantity'] > 5000])\n",
    "\n",
    "print(\"\\n\")\n",
    "print(\"-------------------------------------------------------\")\n",
    "print(\"Verificando padrão de compra do maior Outlier/Cliente\")\n",
    "print(\"-------------------------------------------------------\")\n",
    "\n",
    "# Trocar ID para visualizar todos\n",
    "display(df_clean[df_clean['CustomerID'] == 16446])\n",
    "\n",
    "print(\"Foram feitos cancelamenos das compras Outliers\")"
   ]
  },
  {
   "cell_type": "code",
   "execution_count": null,
   "metadata": {},
   "outputs": [],
   "source": [
    "# Testar outliers usando IQR para a coluna 'Quantity'\n",
    "Q1 = df_clean['Quantity'].quantile(0.25)\n",
    "Q3 = df_clean['Quantity'].quantile(0.75)\n",
    "IQR = Q3 - Q1\n",
    "\n",
    "outliers_iqr = df_clean[(df_clean['Quantity'] < (Q1 - 1.5 * IQR)) | (df_clean['Quantity'] > (Q3 + 1.5 * IQR))]\n",
    "print(f\"Quantidade de outliers detectados pelo IQR em Quantity: {outliers_iqr.shape[0]}\")\n",
    "display(outliers_iqr)"
   ]
  },
  {
   "cell_type": "markdown",
   "metadata": {},
   "source": [
    "Resultado de 58.169 outliers não fazem sentido real.\n",
    "A maior parte deles são possiveis compras grandes legítimas.\n",
    "\n",
    "variável Quantity tem estas características:\n",
    "\n",
    "- Distribuição extremamente assimétrica (muitos valores baixos, poucos valores muito altos);\n",
    " \n",
    "- Existem cancelamentos e devoluções com valores negativos;\n",
    "\n",
    "- Existem compras corporativas (de 500, 1000, 2000 unidades) perfeitamente legítimas;\n",
    "\n",
    "- E há linhas com erros humanos ou transações de teste, mas elas são exceções."
   ]
  },
  {
   "cell_type": "markdown",
   "metadata": {},
   "source": [
    "## 5. Carregando dados na camada Silver\n"
   ]
  },
  {
   "cell_type": "code",
   "execution_count": null,
   "metadata": {
    "application/vnd.databricks.v1+cell": {
     "cellMetadata": {
      "byteLimit": 2048000,
      "rowLimit": 10000
     },
     "inputWidgets": {},
     "nuid": "9f49c64f-850e-4a94-9d07-b909dfe43aca",
     "showTitle": false,
     "tableResultSettingsMap": {},
     "title": ""
    }
   },
   "outputs": [],
   "source": [
    "df_clean.to_parquet(\"data/silver/dados_limpos.parquet\",index=False)\n",
    "print(\"Dados salvos na camada Silver\")"
   ]
  }
 ],
 "metadata": {
  "application/vnd.databricks.v1+notebook": {
   "computePreferences": null,
   "dashboards": [],
   "environmentMetadata": null,
   "inputWidgetPreferences": null,
   "language": "python",
   "notebookMetadata": {
    "pythonIndentUnit": 4
   },
   "notebookName": "02_silver_layer",
   "widgets": {}
  },
  "kernelspec": {
   "display_name": ".venv",
   "language": "python",
   "name": "python3"
  },
  "language_info": {
   "codemirror_mode": {
    "name": "ipython",
    "version": 3
   },
   "file_extension": ".py",
   "mimetype": "text/x-python",
   "name": "python",
   "nbconvert_exporter": "python",
   "pygments_lexer": "ipython3",
   "version": "3.13.3"
  }
 },
 "nbformat": 4,
 "nbformat_minor": 0
}
