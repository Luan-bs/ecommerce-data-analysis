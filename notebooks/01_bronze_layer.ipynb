{
 "cells": [
  {
   "cell_type": "code",
   "execution_count": null,
   "metadata": {
    "application/vnd.databricks.v1+cell": {
     "cellMetadata": {
      "byteLimit": 2048000,
      "rowLimit": 10000
     },
     "inputWidgets": {},
     "nuid": "c8ad0368-955f-42e2-be2c-ab63bbd20ab4",
     "showTitle": false,
     "tableResultSettingsMap": {},
     "title": ""
    }
   },
   "outputs": [],
   "source": [
    "%pip install kagglehub\n",
    "import pandas as pd\n",
    "import kagglehub\n",
    "import os \n",
    "from datetime import datetime\n",
    "\n",
    "# Criar estrutura de pastas \n",
    "os.makedirs(\"data/bronze\", exist_ok=True)\n",
    "os.makedirs(\"data/silver\", exist_ok=True)\n",
    "os.makedirs(\"data/gold\", exist_ok=True)\n",
    "\n",
    "# Carregar dados da fonte original \n",
    "path = kagglehub.dataset_download(\"carrie1/ecommerce-data\")\n",
    "df_raw = pd.read_csv(path + \"/data.csv\", encoding = \"ISO-8859-1\")\n",
    "\n",
    "print(f\"Dados carregados {df_raw.shape[0]} linhas, {df_raw.shape[1]} colunas\")\n",
    "\n",
    " # Adicionar informações de quando os dados foram carregados\n",
    "df_raw[\"data_ingestao\"] = datetime.now()\n",
    "df_raw[\"fonte_arquivos\"] = \"carrie1/ecommerce-data\" \n",
    "\n",
    "# Salvando camada bronze em formato Parquet\n",
    "df_raw.to_parquet(\"data/bronze/dados_brutos.parquet\", index=False)\n",
    "print(\"Dados salvos na camada bronze\")\n",
    "\n",
    "# visualizar primeiras linhas\n",
    "df_raw.head()"
   ]
  }
 ],
 "metadata": {
  "application/vnd.databricks.v1+notebook": {
   "computePreferences": null,
   "dashboards": [],
   "environmentMetadata": null,
   "inputWidgetPreferences": null,
   "language": "python",
   "notebookMetadata": {
    "pythonIndentUnit": 4
   },
   "notebookName": "01_bronze_layer",
   "widgets": {}
  },
  "kernelspec": {
   "display_name": ".venv",
   "language": "python",
   "name": "python3"
  },
  "language_info": {
   "codemirror_mode": {
    "name": "ipython",
    "version": 3
   },
   "file_extension": ".py",
   "mimetype": "text/x-python",
   "name": "python",
   "nbconvert_exporter": "python",
   "pygments_lexer": "ipython3",
   "version": "3.13.3"
  }
 },
 "nbformat": 4,
 "nbformat_minor": 0
}
