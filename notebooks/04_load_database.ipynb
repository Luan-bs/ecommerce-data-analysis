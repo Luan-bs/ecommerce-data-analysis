{
 "cells": [
  {
   "cell_type": "code",
   "execution_count": 1,
   "metadata": {
    "application/vnd.databricks.v1+cell": {
     "cellMetadata": {
      "byteLimit": 2048000,
      "rowLimit": 10000
     },
     "inputWidgets": {},
     "nuid": "f978e63c-e1c9-4bcd-a65e-e512f26378cf",
     "showTitle": false,
     "tableResultSettingsMap": {},
     "title": ""
    }
   },
   "outputs": [
    {
     "name": "stdout",
     "output_type": "stream",
     "text": [
      "Conexão com banco estabelecida\n",
      "\n",
      "Tabelas no banco de dados:\n",
      "  - dim_country\n",
      "  - dim_customer\n",
      "  - dim_date\n",
      "  - dim_product\n",
      "  - fact\n",
      "  - metrics\n",
      "\n",
      "Dados carregados com sucesso no banco de dados!\n"
     ]
    }
   ],
   "source": [
    "import pandas as pd\n",
    "import sqlite3 as sql\n",
    "\n",
    "# Conectar ao banco SQLite3\n",
    "conn = sql.connect('data/pipeline.db')\n",
    "print(\"Conexão com banco estabelecida\")\n",
    "\n",
    "# ==========================================\n",
    "#          CARREGAR TABELAS (GOLD)\n",
    "# ==========================================\n",
    "country = pd.read_parquet('data/gold/dim_country.parquet')\n",
    "country.to_sql('dim_country', conn, if_exists='replace', index=False)\n",
    "\n",
    "customer = pd.read_parquet('data/gold/dim_customer.parquet')\n",
    "customer.to_sql('dim_customer', conn, if_exists='replace', index=False)\n",
    "\n",
    "date = pd.read_parquet('data/gold/dim_date.parquet') \n",
    "date.to_sql('dim_date', conn, if_exists='replace', index=False)\n",
    "\n",
    "product = pd.read_parquet('data/gold/dim_product.parquet')\n",
    "product.to_sql('dim_product', conn, if_exists='replace', index=False) \n",
    "\n",
    "fact = pd.read_parquet('data/gold/fact_all.parquet')\n",
    "fact.to_sql('fact', conn, if_exists='replace', index=False)\n",
    "\n",
    "\n",
    "# ==========================================\n",
    "#          CARREGAR DADOS AGREGADOS (GOLD)\n",
    "# ==========================================\n",
    "metrics = pd.read_parquet('data/gold/metrics_df.parquet')\n",
    "metrics.to_sql('metrics', conn, if_exists='replace', index=False)\n",
    "\n",
    "\n",
    "# ==========================================\n",
    "#     VERIFICAR TABELAS CRIADAS\n",
    "# =========================================\n",
    "cursor = conn.cursor()\n",
    "cursor.execute(\"SELECT name FROM sqlite_master WHERE type='table';\")\n",
    "tabelas = cursor.fetchall()\n",
    "print(\"\\nTabelas no banco de dados:\")\n",
    "\n",
    "for tabela in tabelas:\n",
    "    print(f\"  - {tabela[0]}\")\n",
    "\n",
    "conn.close()\n",
    "print(\"\\nDados carregados com sucesso no banco de dados!\")"
   ]
  },
  {
   "cell_type": "code",
   "execution_count": null,
   "metadata": {},
   "outputs": [],
   "source": [
    "# Consulta SQL para ver o total de vendas na tabela fact\n",
    "conn = sql.connect('data/pipeline.db')\n",
    "query = \"SELECT SUM(total_value) AS total_vendas FROM fact;\"\n",
    "total_vendas = pd.read_sql_query(query, conn)\n",
    "print(f\"Total de vendas: {total_vendas.iloc[0,0]:,.2f}\")\n",
    "conn.close()"
   ]
  }
 ],
 "metadata": {
  "application/vnd.databricks.v1+notebook": {
   "computePreferences": null,
   "dashboards": [],
   "environmentMetadata": {
    "base_environment": "",
    "environment_version": "4"
   },
   "inputWidgetPreferences": null,
   "language": "python",
   "notebookMetadata": {
    "pythonIndentUnit": 4
   },
   "notebookName": "04_load_database",
   "widgets": {}
  },
  "kernelspec": {
   "display_name": ".venv",
   "language": "python",
   "name": "python3"
  },
  "language_info": {
   "codemirror_mode": {
    "name": "ipython",
    "version": 3
   },
   "file_extension": ".py",
   "mimetype": "text/x-python",
   "name": "python",
   "nbconvert_exporter": "python",
   "pygments_lexer": "ipython3",
   "version": "3.13.3"
  }
 },
 "nbformat": 4,
 "nbformat_minor": 0
}
