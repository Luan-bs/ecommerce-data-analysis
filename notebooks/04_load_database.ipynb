{
 "cells": [
  {
   "cell_type": "code",
   "execution_count": 0,
   "metadata": {
    "application/vnd.databricks.v1+cell": {
     "cellMetadata": {
      "byteLimit": 2048000,
      "rowLimit": 10000
     },
     "inputWidgets": {},
     "nuid": "f978e63c-e1c9-4bcd-a65e-e512f26378cf",
     "showTitle": false,
     "tableResultSettingsMap": {},
     "title": ""
    }
   },
   "outputs": [
    {
     "output_type": "stream",
     "name": "stdout",
     "output_type": "stream",
     "text": [
      "Conexão com banco estabelecida\n"
     ]
    },
    {
     "output_type": "execute_result",
     "data": {
      "text/plain": [
       "539273"
      ]
     },
     "execution_count": 4,
     "metadata": {},
     "output_type": "execute_result"
    }
   ],
   "source": [
    "import pandas as pd\n",
    "import sqlite3 as sql\n",
    "\n",
    "# Conectar ao banco SQLite3\n",
    "conn = sql.connect('data/pipeline.db')\n",
    "print(\"Conexão com banco estabelecida\")\n",
    "\n",
    "# ==========================================\n",
    "# CARREGAR DADOS AGREGADOS (GOLD)\n",
    "# ==========================================\n",
    "country = pd.read_parquet('data/gold/dim_country.parquet')\n",
    "country.to_sql('dim_country', conn, if_exists='replace', index=False)\n",
    "\n",
    "customer = pd.read_parquet('data/gold/dim_customer.parquet')\n",
    "customer.to_sql('dim_customer', conn, if_exists='replace', index=False)\n",
    "\n",
    "date = pd.read_parquet('data/gold/dim_date.parquet') \n",
    "date.to_sql('dim_date', conn, if_exists='replace', index=False)\n",
    "\n",
    "product = pd.read_parquet('data/gold/dim_product.parquet')\n",
    "product.to_sql('dim_product', conn, if_exists='replace', index=False) \n",
    "\n",
    "fact = pd.read_parquet('data/gold/fact_all.parquet')\n",
    "fact.to_sql('fact', conn, if_exists='replace', index=False)\n",
    "\n",
    "# ==========================================\n",
    "# VERIFICAR TABELAS CRIADAS\n",
    "# =========================================\n",
    "cursor = conn.cursor()\n",
    "cursor.execute(\"SELECT name FROM sqlite_master WHERE type='table';\")\n",
    "tabelas = cursor.fetchall()\n",
    "print(\"\\nTabelas no banco de dados:\")\n",
    "\n",
    "for tabela in tabelas:\n",
    "    print(f\"  - {tabela[0]}\")\n",
    "\n",
    "conn.close()\n",
    "print(\"\\nDados carregados com sucesso no banco de dados!\")"
   ]
  },
  {
   "cell_type": "code",
   "execution_count": 0,
   "metadata": {
    "application/vnd.databricks.v1+cell": {
     "cellMetadata": {
      "byteLimit": 2048000,
      "rowLimit": 10000
     },
     "inputWidgets": {},
     "nuid": "e4e20e13-f0c5-4b97-b340-1be9625bcb46",
     "showTitle": false,
     "tableResultSettingsMap": {},
     "title": ""
    }
   },
   "outputs": [
    {
     "output_type": "stream",
     "name": "stdout",
     "output_type": "stream",
     "text": [
      "Total de vendas: 9,759,687.46\n"
     ]
    }
   ],
   "source": [
    "# Consulta SQL para ver o total de vendas na tabela fact\n",
    "conn = sql.connect('data/pipeline.db')\n",
    "query = \"SELECT SUM(total_value) AS total_vendas FROM fact;\"\n",
    "total_vendas = pd.read_sql_query(query, conn)\n",
    "print(f\"Total de vendas: {total_vendas.iloc[0,0]:,.2f}\")\n",
    "conn.close()"
   ]
  }
 ],
 "metadata": {
  "application/vnd.databricks.v1+notebook": {
   "computePreferences": null,
   "dashboards": [],
   "environmentMetadata": {
    "base_environment": "",
    "environment_version": "4"
   },
   "inputWidgetPreferences": null,
   "language": "python",
   "notebookMetadata": {
    "pythonIndentUnit": 4
   },
   "notebookName": "04_load_database",
   "widgets": {}
  },
  "language_info": {
   "name": "python"
  }
 },
 "nbformat": 4,
 "nbformat_minor": 0
}