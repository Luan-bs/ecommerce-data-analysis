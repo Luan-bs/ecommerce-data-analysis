{
 "cells": [
  {
   "cell_type": "code",
   "execution_count": 2,
   "metadata": {
    "application/vnd.databricks.v1+cell": {
     "cellMetadata": {
      "byteLimit": 2048000,
      "rowLimit": 10000
     },
     "inputWidgets": {},
     "nuid": "6b53e9b1-a315-489d-9605-25ed5c8555c0",
     "showTitle": false,
     "tableResultSettingsMap": {},
     "title": ""
    }
   },
   "outputs": [],
   "source": [
    "import pandas as pd\n",
    "\n",
    "# Carregar dados da camada silver\n",
    "df_clean = pd.read_csv('data/silver/dados_limpos.csv')\n",
    "\n",
    "# Linhas stockcode de tarifas\n",
    "stockcode_fees = ['C2', 'DOT', 'POST','AMAZONFEE']\n",
    "df_clean['total_value'] = df_clean['Quantity'] * df_clean['UnitPrice']\n",
    "\n",
    "# =========================================\n",
    "#               TABELAS FATO\n",
    "# =========================================\n",
    "\n",
    "# --------- Dim Country -----------\n",
    "dim_country = (\n",
    "    df_clean[['Country']]\n",
    "    .drop_duplicates()\n",
    "    .copy()\n",
    ")\n",
    "dim_country = dim_country.reset_index(drop=True)\n",
    "dim_country['CountryID'] = dim_country.index + 1\n",
    "\n",
    "# --------- Dim Date -----------\n",
    "dim_date = (\n",
    "    df_clean[['InvoiceDate']]\n",
    "    .drop_duplicates(subset=['InvoiceDate'])\n",
    "    .copy()\n",
    ")\n",
    "dim_date = dim_date.reset_index(drop=True)\n",
    "dim_date['InvoiceDate'] = pd.to_datetime(dim_date['InvoiceDate'])\n",
    "dim_date['DateID'] = dim_date.index + 1\n",
    "dim_date['Year'] = dim_date['InvoiceDate'].dt.year\n",
    "dim_date['Month'] = dim_date['InvoiceDate'].dt.month\n",
    "dim_date['Day'] = dim_date['InvoiceDate'].dt.day\n",
    "dim_date['Weekday'] = dim_date['InvoiceDate'].dt.day_name()\n",
    "dim_date['Hour'] = dim_date['InvoiceDate'].dt.hour\n",
    "\n",
    "# Mapeamentos para substituição\n",
    "country_map = dict(zip(dim_country['Country'], dim_country['CountryID']))\n",
    "date_map = dict(zip(dim_date['InvoiceDate'], dim_date['DateID']))\n",
    "\n",
    "# --------- Fato Vendas -----------\n",
    "fact_sales = df_clean[\n",
    "    (~df_clean['InvoiceNo'].astype(str).str.startswith(('C', 'A'))) &\n",
    "    (df_clean['Quantity'] > 0) &\n",
    "    (df_clean['UnitPrice'] > 0) &\n",
    "    (~df_clean['StockCode'].isin(stockcode_fees))\n",
    "].copy()\n",
    "\n",
    "# Garanta que CustomerID é sempre string\n",
    "fact_sales['CustomerID'] = fact_sales['CustomerID'].fillna('Unknown').astype(str)\n",
    "fact_sales['CountryID'] = fact_sales['Country'].map(country_map)\n",
    "fact_sales['DateID'] = pd.to_datetime(fact_sales['InvoiceDate']).map(date_map)\n",
    "\n",
    "fact_sales = fact_sales[[\n",
    "    'InvoiceNo', 'StockCode', 'CustomerID', 'DateID',\n",
    "    'Quantity', 'UnitPrice', 'total_value', 'CountryID'\n",
    "]]\n",
    "\n",
    "# --------- Fato Tarifas -----------\n",
    "fact_fees = df_clean[\n",
    "    (df_clean['StockCode'].isin(stockcode_fees)) &\n",
    "    (~df_clean['InvoiceNo'].astype(str).str.startswith(('C', 'A')))].copy()\n",
    "fact_fees['CustomerID'] = fact_fees['CustomerID'].astype(str)\n",
    "fact_fees['CountryID'] = fact_fees['Country'].map(country_map)\n",
    "fact_fees['DateID'] = pd.to_datetime(fact_fees['InvoiceDate']).map(date_map)\n",
    "fact_fees = fact_fees[[\n",
    "    'InvoiceNo', 'StockCode', 'CustomerID', 'DateID',\n",
    "    'Quantity', 'UnitPrice', 'total_value', 'CountryID'\n",
    "]]\n",
    "\n",
    "# --------- Fato Cancelamentos -----------\n",
    "fact_cancellations = df_clean[\n",
    "    (df_clean['InvoiceNo'].astype(str).str.startswith(('C', 'A'))) &\n",
    "    (~df_clean['StockCode'].isin(['C2', 'DOT', 'POST']))\n",
    "].copy()\n",
    "fact_cancellations['CustomerID'] = fact_cancellations['CustomerID'].astype(str)\n",
    "fact_cancellations['CountryID'] = fact_cancellations['Country'].map(country_map)\n",
    "fact_cancellations['DateID'] = pd.to_datetime(fact_cancellations['InvoiceDate']).map(date_map)\n",
    "fact_cancellations = fact_cancellations[[\n",
    "    'InvoiceNo', 'StockCode', 'CustomerID', 'DateID',\n",
    "    'Quantity', 'UnitPrice', 'total_value', 'CountryID'\n",
    "]]\n",
    "\n",
    "# =========================================\n",
    "#               TABELAS DIMENSAO\n",
    "# =========================================\n",
    "\n",
    "# --------- Dim Clientes -----------\n",
    "dim_customer = (\n",
    "    fact_sales[['CustomerID', 'CountryID']]\n",
    "    .drop_duplicates(subset=['CustomerID'])\n",
    "    .copy()\n",
    ")\n",
    "# Garante existencia do cliente 'Unknown'\n",
    "if 'Unknown' not in dim_customer['CustomerID'].values:\n",
    "    unknown_country_id = dim_country[dim_country['Country'] == 'Desconhecido']['CountryID'].values[0] if 'Desconhecido' in dim_country['Country'].values else None\n",
    "    dim_customer.loc[len(dim_customer)] = ['Unknown', unknown_country_id]\n",
    "\n",
    "# --------- Dim Produtos -----------\n",
    "dim_product = (\n",
    "    df_clean[['StockCode', 'Description']]\n",
    "    .drop_duplicates(subset=['StockCode'])\n",
    "    .rename(columns={'Description': 'ProductDescription'})\n",
    "    .copy()\n",
    ")\n",
    "\n",
    "# --------- Dim Date -----------\n",
    "# Já criada acima como dim_date, apenas reordenar colunas\n",
    "dim_date = dim_date[[\n",
    "    'DateID', 'InvoiceDate', 'Year', 'Month', 'Day', 'Weekday', 'Hour'\n",
    "]]\n",
    "\n",
    "# --------- Dim Country -----------\n",
    "dim_country = dim_country[['CountryID', 'Country']]\n",
    "\n"
   ]
  },
  {
   "cell_type": "code",
   "execution_count": 3,
   "metadata": {
    "application/vnd.databricks.v1+cell": {
     "cellMetadata": {
      "byteLimit": 2048000,
      "rowLimit": 10000
     },
     "inputWidgets": {},
     "nuid": "f61d444f-fac6-4c30-aa5b-7d3e2846d5e5",
     "showTitle": false,
     "tableResultSettingsMap": {},
     "title": ""
    }
   },
   "outputs": [],
   "source": [
    "# Classificando vendas/tarifas/cancelamentos\n",
    "fact_sales['TransactionType'] = 'Sale'\n",
    "fact_fees['TransactionType'] = 'Fee'\n",
    "fact_cancellations['TransactionType'] = 'Cancellation'\n",
    "\n",
    "# Unindo tabelas fatos em uma só\n",
    "fact_all = pd.concat(\n",
    "    [fact_sales, fact_fees, fact_cancellations],\n",
    "    ignore_index=True\n",
    ")"
   ]
  },
  {
   "cell_type": "code",
   "execution_count": 4,
   "metadata": {
    "application/vnd.databricks.v1+cell": {
     "cellMetadata": {
      "byteLimit": 2048000,
      "rowLimit": 10000
     },
     "inputWidgets": {},
     "nuid": "992d8806-95bc-4fa8-b69c-eeb0ec3f17c3",
     "showTitle": false,
     "tableResultSettingsMap": {},
     "title": ""
    }
   },
   "outputs": [
    {
     "name": "stdout",
     "output_type": "stream",
     "text": [
      "Tabelas salvas na camada Gold.\n"
     ]
    }
   ],
   "source": [
    "# Salvar tabelas finais (camada Gold) como Parquet para uso analítico\n",
    "gold_path = \"data/gold/\"\n",
    "\n",
    "dim_country.to_parquet(f'{gold_path}dim_country.parquet', index=False)\n",
    "dim_date.to_parquet(f'{gold_path}dim_date.parquet', index=False)\n",
    "dim_customer.to_parquet(f'{gold_path}dim_customer.parquet', index=False)\n",
    "dim_product.to_parquet(f'{gold_path}dim_product.parquet', index=False)\n",
    "fact_all.to_parquet(f'{gold_path}fact_all.parquet', index=False)\n",
    "\n",
    "print(\"Tabelas salvas na camada Gold.\")"
   ]
  },
  {
   "cell_type": "code",
   "execution_count": 5,
   "metadata": {
    "application/vnd.databricks.v1+cell": {
     "cellMetadata": {
      "byteLimit": 2048000,
      "rowLimit": 10000
     },
     "inputWidgets": {},
     "nuid": "ed51c4d8-e71e-4197-b6e6-901ac986a096",
     "showTitle": false,
     "tableResultSettingsMap": {},
     "title": ""
    }
   },
   "outputs": [
    {
     "data": {
      "text/plain": [
       "np.float64(10350459.744)"
      ]
     },
     "metadata": {},
     "output_type": "display_data"
    }
   ],
   "source": [
    "display(fact_sales['total_value'].sum())"
   ]
  }
 ],
 "metadata": {
  "application/vnd.databricks.v1+notebook": {
   "computePreferences": null,
   "dashboards": [],
   "environmentMetadata": {
    "base_environment": "",
    "environment_version": "4"
   },
   "inputWidgetPreferences": null,
   "language": "python",
   "notebookMetadata": {
    "pythonIndentUnit": 4
   },
   "notebookName": "03_gold_layer",
   "widgets": {}
  },
  "kernelspec": {
   "display_name": ".venv",
   "language": "python",
   "name": "python3"
  },
  "language_info": {
   "codemirror_mode": {
    "name": "ipython",
    "version": 3
   },
   "file_extension": ".py",
   "mimetype": "text/x-python",
   "name": "python",
   "nbconvert_exporter": "python",
   "pygments_lexer": "ipython3",
   "version": "3.13.3"
  }
 },
 "nbformat": 4,
 "nbformat_minor": 0
}
